{
 "cells": [
  {
   "cell_type": "code",
   "execution_count": 52,
   "id": "bece9d24",
   "metadata": {
    "tags": []
   },
   "outputs": [],
   "source": [
    "import pygsheets # use 'pip install pygsheets', not maintained with conda\n",
    "import pandas\n",
    "import datetime\n",
    "import geopandas\n",
    "import shapely\n",
    "import pathlib\n",
    "import pyogrio\n",
    "import json\n",
    "import glob"
   ]
  },
  {
   "cell_type": "code",
   "execution_count": 53,
   "id": "0f59ac1f-db40-4411-ac7d-58c91188d505",
   "metadata": {},
   "outputs": [
    {
     "data": {
      "text/plain": [
       "'0.14.0+83.g3151ef4'"
      ]
     },
     "execution_count": 53,
     "metadata": {},
     "output_type": "execute_result"
    }
   ],
   "source": [
    "geopandas.__version__"
   ]
  },
  {
   "cell_type": "markdown",
   "id": "04cd566d-93db-4b1e-89c0-f37bc486c57e",
   "metadata": {},
   "source": [
    "# get list of GeoJSON pipeline route files"
   ]
  },
  {
   "cell_type": "code",
   "execution_count": 54,
   "id": "1e25e666-b159-4d3f-ad77-1003059f976e",
   "metadata": {},
   "outputs": [],
   "source": [
    "file_list = glob.glob('/Users/baird/Dropbox/_git_ALL/_github-repos-gem/GOIT-GGIT-pipeline-routes/data/individual-routes/*.geojson')\n",
    "file_projectids = sorted([i.split('/')[-1][:5] for i in file_list])"
   ]
  },
  {
   "cell_type": "markdown",
   "id": "65c4cc77-b817-45b7-a20c-b9e0c701b2df",
   "metadata": {},
   "source": [
    "# pipelines"
   ]
  },
  {
   "cell_type": "markdown",
   "id": "7a5239e5-574c-4722-811c-3a3b61f4b611",
   "metadata": {},
   "source": [
    "### comment out appropriate final lines to only publish oil or gas"
   ]
  },
  {
   "cell_type": "code",
   "execution_count": 55,
   "id": "99bd412b-19fc-462d-a5ad-ea082d136ae4",
   "metadata": {},
   "outputs": [],
   "source": [
    "file_output = \"liquid\" # liquid pipelines (crude oil, NGL, other options like CO2)\n",
    "#file_output = \"gas\" # gas pipelines (natural gas, hydrogen)"
   ]
  },
  {
   "cell_type": "code",
   "execution_count": 56,
   "id": "f5468ac6-6601-4eb8-9f11-2909cee9be29",
   "metadata": {},
   "outputs": [],
   "source": [
    "gc = pygsheets.authorize(service_account_env_var='GDRIVE_API_CREDENTIALS')\n",
    "spreadsheet = gc.open_by_key('1foPLE6K-uqFlaYgLPAUxzeXfDO5wOOqE7tibNHeqTek') # current version\n",
    "\n",
    "gas_pipes = spreadsheet.worksheet('title','Gas pipelines').get_as_df(start='A3')\n",
    "liquid_pipes = spreadsheet.worksheet('title','Oil/NGL pipelines').get_as_df(start='A3')"
   ]
  },
  {
   "cell_type": "code",
   "execution_count": 57,
   "id": "9a32fe44-0546-4893-bc11-89b3b74ccd4d",
   "metadata": {},
   "outputs": [
    {
     "data": {
      "text/plain": [
       "array(['Gas', 'Oil', 'Hydrogen', ''], dtype=object)"
      ]
     },
     "execution_count": 57,
     "metadata": {},
     "output_type": "execute_result"
    }
   ],
   "source": [
    "gas_pipes.Fuel.unique()"
   ]
  },
  {
   "cell_type": "code",
   "execution_count": 58,
   "id": "8e1aacc3-898b-44e0-9617-c4f491f460ef",
   "metadata": {},
   "outputs": [
    {
     "data": {
      "text/plain": [
       "array(['Oil', 'NGL', 'Oil products', 'Oil ', 'Oil, NGL',\n",
       "       'Oil, NGL, Naphtha', 'CO2', 'Naphtha, Oil products', 'Naphtha', ''],\n",
       "      dtype=object)"
      ]
     },
     "execution_count": 58,
     "metadata": {},
     "output_type": "execute_result"
    }
   ],
   "source": [
    "liquid_pipes.Fuel.unique()"
   ]
  },
  {
   "cell_type": "markdown",
   "id": "1e5f0162-f90e-4a1b-8148-5853f362d19d",
   "metadata": {},
   "source": [
    "### remove all pipeline properties except pipeline name, segment name, projectid, route information"
   ]
  },
  {
   "cell_type": "code",
   "execution_count": 59,
   "id": "ee607d1f-4895-4fd4-94c1-38ef4696cb77",
   "metadata": {},
   "outputs": [],
   "source": [
    "keep_these_columns = ['PipelineName',\n",
    "                      'SegmentName',\n",
    "                      'ProjectID',\n",
    "                      'Route',\n",
    "                      'RouteType',\n",
    "                      'RouteAccuracy',\n",
    "                      'RouteNotes']\n",
    "gas_pipes = gas_pipes[keep_these_columns]\n",
    "liquid_pipes = liquid_pipes[keep_these_columns]"
   ]
  },
  {
   "cell_type": "raw",
   "id": "b090ac46-7274-439e-82c5-4add690576a3",
   "metadata": {},
   "source": [
    "#pandas.concat([gas_pipes,liquid_pipes], ignore_index=True)\n",
    "if file_output==\"gas\":\n",
    "    all_pipes = gas_pipes.copy()\n",
    "if file_output==\"liquid\":\n",
    "    all_pipes = liquid_pipes.copy()"
   ]
  },
  {
   "cell_type": "code",
   "execution_count": 60,
   "id": "03c49cec-aac2-4b44-8296-c69652ed0a45",
   "metadata": {},
   "outputs": [],
   "source": [
    "all_pipes = pandas.concat([gas_pipes, liquid_pipes], ignore_index=True)"
   ]
  },
  {
   "cell_type": "code",
   "execution_count": 61,
   "id": "4ccacdd3-0dcc-4638-9152-5de162af54c8",
   "metadata": {},
   "outputs": [],
   "source": [
    "all_pipes = all_pipes.loc[all_pipes.RouteAccuracy!='']"
   ]
  },
  {
   "cell_type": "code",
   "execution_count": 62,
   "id": "075e5bb9-43ec-4999-bc44-a2aa3255cf18",
   "metadata": {},
   "outputs": [],
   "source": [
    "database_projectids = all_pipes.ProjectID.tolist()"
   ]
  },
  {
   "cell_type": "markdown",
   "id": "0751df03-212e-4183-9960-ac7abc4c67a8",
   "metadata": {},
   "source": [
    "# missing from database but in files"
   ]
  },
  {
   "cell_type": "code",
   "execution_count": 63,
   "id": "6362f65e-7124-4d2a-bfb3-2054c6042ee8",
   "metadata": {},
   "outputs": [
    {
     "data": {
      "text/plain": [
       "set()"
      ]
     },
     "execution_count": 63,
     "metadata": {},
     "output_type": "execute_result"
    }
   ],
   "source": [
    "set(database_projectids)-set(file_projectids)"
   ]
  },
  {
   "cell_type": "code",
   "execution_count": 64,
   "id": "3d0d6fd3-c554-4781-be66-3fa780683425",
   "metadata": {},
   "outputs": [
    {
     "data": {
      "text/plain": [
       "set()"
      ]
     },
     "execution_count": 64,
     "metadata": {},
     "output_type": "execute_result"
    }
   ],
   "source": [
    "set(file_projectids)-set(database_projectids)"
   ]
  }
 ],
 "metadata": {
  "kernelspec": {
   "display_name": "Python 3 (ipykernel)",
   "language": "python",
   "name": "python3"
  },
  "language_info": {
   "codemirror_mode": {
    "name": "ipython",
    "version": 3
   },
   "file_extension": ".py",
   "mimetype": "text/x-python",
   "name": "python",
   "nbconvert_exporter": "python",
   "pygments_lexer": "ipython3",
   "version": "3.11.6"
  }
 },
 "nbformat": 4,
 "nbformat_minor": 5
}
